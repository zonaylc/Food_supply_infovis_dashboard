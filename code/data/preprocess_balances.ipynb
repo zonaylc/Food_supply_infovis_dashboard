{
 "cells": [
  {
   "cell_type": "code",
   "execution_count": 1,
   "metadata": {},
   "outputs": [],
   "source": [
    "import pandas as pd\n",
    "import pycountry\n",
    "from tqdm.notebook import tqdm"
   ]
  },
  {
   "cell_type": "code",
   "execution_count": 2,
   "metadata": {
    "scrolled": true
   },
   "outputs": [],
   "source": [
    "# download old+new food balances and land use dataset (all data!) from FAOSTAT, rename them accordingly and place them in the directory of this notebook!\n",
    "new = pd.read_csv('balances_new.csv', encoding='latin1')\n",
    "new = new.loc[new['Area Code'] < 5000]\n",
    "old = pd.read_csv('balances_old.csv', encoding='latin1')\n",
    "old = old.loc[old['Area Code'] < 5000]\n",
    "areas = pd.read_csv('areas.csv', encoding='latin1')\n",
    "areas = areas.loc[(areas['Area Code'] < 5000) & (areas['Item Code'] == 6610) & (areas['Element Code'] == 5110)]\n",
    "\n",
    "# also download item group and element definitions for balances dataset\n",
    "item_groups = pd.read_csv('item_group_definitions.csv', encoding='latin1')\n",
    "elements = pd.read_csv('element_definitions.csv', encoding='latin1')"
   ]
  },
  {
   "cell_type": "code",
   "execution_count": 3,
   "metadata": {
    "scrolled": true
   },
   "outputs": [],
   "source": [
    "# combine datasets\n",
    "df = pd.merge(old, new, 'outer')\n",
    "areas = areas.loc[areas['Area Code'].isin(df['Area Code'].unique())]\n",
    "df = pd.merge(df, areas, 'outer')\n",
    "\n",
    "# remove unit (e.g. 'kcal/capita/day') from food supply element labels\n",
    "element_codes_to_fix = [684, 664, 645, 674]\n",
    "df.loc[df['Element Code'] == 684, 'Element'] = \"Fat supply quantity\"\n",
    "df.loc[df['Element Code'] == 664, 'Element'] = \"Food supply\"\n",
    "df.loc[df['Element Code'] == 645, ['Element', 'Unit']] = [\"Food supply quantity\", \"kg/capita/yr\"]\n",
    "df.loc[df['Element Code'] == 674, 'Element'] = \"Protein supply quantity\""
   ]
  },
  {
   "cell_type": "code",
   "execution_count": 4,
   "metadata": {},
   "outputs": [
    {
     "data": {
      "application/vnd.jupyter.widget-view+json": {
       "model_id": "5c0db028729f4293a7fd58b0c5a9249b",
       "version_major": 2,
       "version_minor": 0
      },
      "text/plain": [
       "HBox(children=(IntProgress(value=0, max=183), HTML(value='')))"
      ]
     },
     "metadata": {},
     "output_type": "display_data"
    },
    {
     "name": "stdout",
     "output_type": "stream",
     "text": [
      "\n"
     ]
    },
    {
     "name": "stderr",
     "output_type": "stream",
     "text": [
      "/home/elias/anaconda3/lib/python3.7/site-packages/tqdm/std.py:648: FutureWarning: The Panel class is removed from pandas. Accessing it from the top-level namespace will also be removed in the next version\n",
      "  from pandas import Panel\n"
     ]
    },
    {
     "data": {
      "application/vnd.jupyter.widget-view+json": {
       "model_id": "cc873ed4528b4c4bb39456006e92c667",
       "version_major": 2,
       "version_minor": 0
      },
      "text/plain": [
       "HBox(children=(IntProgress(value=0, max=274548), HTML(value='')))"
      ]
     },
     "metadata": {},
     "output_type": "display_data"
    },
    {
     "name": "stdout",
     "output_type": "stream",
     "text": [
      "\n"
     ]
    }
   ],
   "source": [
    "# merge duplicate area codes for north macedonia (154) and swaziland (209)\n",
    "macedonia = df.loc[df['Area Code'] == 154].groupby(['Area Code', 'Item Code', 'Item', 'Element Code', 'Element', 'Unit']).sum().reset_index()\n",
    "macedonia['Area'] = \"North Macedonia\"\n",
    "swaziland = df.loc[df['Area Code'] == 209].groupby(['Area Code', 'Item Code', 'Item', 'Element Code', 'Element', 'Unit']).sum().reset_index()\n",
    "swaziland['Area'] = \"Eswatini\"\n",
    "# replace old records\n",
    "df = df.loc[(df['Area Code'] != 154) & (df['Area Code'] != 209)]\n",
    "df = df.append(macedonia, ignore_index=True, sort=False)\n",
    "df = df.append(swaziland, ignore_index=True, sort=False)\n",
    "\n",
    "# fix a few area names that cant be found otherwise\n",
    "df.loc[df['Area Code'] == 236, 'Area'] = 'Venezuela'\n",
    "df.loc[df['Area Code'] == 19, 'Area'] = 'Bolivia'\n",
    "df.loc[df['Area Code'] == 102, 'Area'] = 'Iran'\n",
    "df.loc[df['Area Code'] == 117, 'Area'] = 'South Korea'\n",
    "df.loc[df['Area Code'] == 107, 'Area'] = 'Côte d\\'Ivoire'\n",
    "\n",
    "# change area codes to iso format\n",
    "iso_codes = {}\n",
    "for area_name in tqdm(df['Area'].unique()):\n",
    "    country = pycountry.countries.get(name=area_name)\n",
    "    if country:\n",
    "        iso_codes[area_name] = country.alpha_3\n",
    "    else:\n",
    "        try: \n",
    "            iso_codes[area_name] = pycountry.countries.search_fuzzy(area_name)[0].alpha_3\n",
    "        except LookupError:\n",
    "            pass\n",
    "    \n",
    "tqdm.pandas()\n",
    "df['Area Code'] = df['Area'].progress_apply(lambda area_name: iso_codes.get(area_name))\n",
    "\n",
    "# remove entries of no unresolvable countries :(\n",
    "df = df.drop(df.loc[df['Area Code'].isnull()].index)"
   ]
  },
  {
   "cell_type": "code",
   "execution_count": 5,
   "metadata": {
    "scrolled": true
   },
   "outputs": [
    {
     "data": {
      "application/vnd.jupyter.widget-view+json": {
       "model_id": "dcf13c1eef0745cf9a6546de1b70b5d6",
       "version_major": 2,
       "version_minor": 0
      },
      "text/plain": [
       "HBox(children=(IntProgress(value=0, max=258444), HTML(value='')))"
      ]
     },
     "metadata": {},
     "output_type": "display_data"
    },
    {
     "name": "stdout",
     "output_type": "stream",
     "text": [
      "\n"
     ]
    }
   ],
   "source": [
    "# change units from thousands to single tonnes/persons\n",
    "tqdm.pandas()\n",
    "df['Unit'] = df['Unit'].progress_apply(lambda unit: unit[len(\"1000 \"):] if unit.startswith(\"1000 \") else unit)\n",
    "df.loc[(df['Unit'] == 'tonnes') | (df['Unit'] == 'persons') | (df['Unit'] == \"ha\"), 'Y1961':'Y2017'] *= 1000"
   ]
  },
  {
   "cell_type": "code",
   "execution_count": 6,
   "metadata": {},
   "outputs": [],
   "source": [
    "year_cols = [col for col in df if col.startswith('Y')]\n",
    "grouping_cols = ['Area Code', 'Area', 'Unit']\n",
    "\n",
    "def calc_total(element_code, item_code):\n",
    "    element = elements.loc[elements['Element Code'] == element_code, 'Element'].iloc[0]\n",
    "    item_codes = item_groups.loc[item_groups['Item Group Code'] == item_code, 'Item Code']\n",
    "    item = item_groups.loc[item_groups['Item Group Code'] == item_code, 'Item Group'].iloc[0]\n",
    "    total = df.loc[(df['Element Code'] == element_code) & (df['Item Code'].isin(item_codes))].groupby(grouping_cols)[year_cols].sum()\n",
    "    total['Item Code'], total['Item'], total['Element Code'], total['Element'] = [item_code, item, element_code, element]\n",
    "    total = total.sort_values(\"Area Code\").reset_index()\n",
    "    return total\n",
    "\n",
    "def calc_ratio(df1, df2, element, unit, scalar=1):\n",
    "    element_code = df1['Element Code'].iloc[0]+1\n",
    "    item_code = df1['Item Code'].iloc[0]\n",
    "    item = df1['Item'].iloc[0]\n",
    "    ratio = df1[year_cols] / df2[year_cols] * scalar\n",
    "    ratio['Item Code'], ratio['Item'], ratio['Element Code'], ratio['Element'], ratio['Unit'] = [item_code, item, element_code, element, unit]\n",
    "    ratio[['Area Code', 'Area']] = df1[['Area Code', 'Area']]\n",
    "    return ratio\n",
    "    \n",
    "# calculate totals\n",
    "total_production = calc_total(5511, 2901)\n",
    "total_losses = calc_total(5123, 2901)\n",
    "total_import = calc_total(5611, 2901)\n",
    "total_export = calc_total(5911, 2901)\n",
    "total_supply = calc_total(5301, 2901)\n",
    "ap_production = calc_total(5511, 2941)\n",
    "ap_losses = calc_total(5123, 2941)\n",
    "ap_import = calc_total(5611, 2941)\n",
    "ap_export = calc_total(5911, 2941)\n",
    "ap_supply = calc_total(5301, 2941)\n",
    "vp_production = calc_total(5511, 2903)\n",
    "vp_losses = calc_total(5123, 2903)\n",
    "vp_import = calc_total(5611, 2903)\n",
    "vp_export = calc_total(5911, 2903)\n",
    "vp_supply = calc_total(5301, 2903)\n",
    "    \n",
    "# calculate ratios\n",
    "export_ratio = calc_ratio(total_export, total_production, \"Production Export Ratio\", \"%\", 100)\n",
    "import_ratio = calc_ratio(total_import, total_supply, \"Domestic Supply Import Ratio\", \"%\", 100)\n",
    "losses_ratio = calc_ratio(total_losses, total_production, \"Production Loss Ratio\", \"%\", 100)\n",
    "hectares = df.loc[(df['Item Code'] == 6610) & (df['Element Code'] == 5110)].sort_values('Area Code').reset_index(drop=True)\n",
    "production_ratio = calc_ratio(total_production, hectares, \"Production per Hectare\", \"tonnes/ha\")\n",
    "\n",
    "# append\n",
    "df = df.append(total_production, ignore_index=True, sort=False)\n",
    "df = df.append(total_losses, ignore_index=True, sort=False)\n",
    "df = df.append(total_import, ignore_index=True, sort=False)\n",
    "df = df.append(total_export, ignore_index=True, sort=False)\n",
    "df = df.append(total_supply, ignore_index=True, sort=False)\n",
    "df = df.append(ap_production, ignore_index=True, sort=False)\n",
    "df = df.append(ap_losses, ignore_index=True, sort=False)\n",
    "df = df.append(ap_import, ignore_index=True, sort=False)\n",
    "df = df.append(ap_export, ignore_index=True, sort=False)\n",
    "df = df.append(ap_supply, ignore_index=True, sort=False)\n",
    "df = df.append(vp_production, ignore_index=True, sort=False)\n",
    "df = df.append(vp_losses, ignore_index=True, sort=False)\n",
    "df = df.append(vp_import, ignore_index=True, sort=False)\n",
    "df = df.append(vp_export, ignore_index=True, sort=False)\n",
    "df = df.append(vp_supply, ignore_index=True, sort=False)\n",
    "df = df.append(export_ratio, ignore_index=True, sort=False)\n",
    "df = df.append(import_ratio, ignore_index=True, sort=False)\n",
    "df = df.append(losses_ratio, ignore_index=True, sort=False)\n",
    "df = df.append(production_ratio, ignore_index=True, sort=False)"
   ]
  },
  {
   "cell_type": "code",
   "execution_count": 7,
   "metadata": {},
   "outputs": [],
   "source": [
    "# sort and write to file\n",
    "df = df.sort_values(['Area', 'Item', 'Element'])\n",
    "df.to_csv(\"balances.csv\", index=False)"
   ]
  }
 ],
 "metadata": {
  "kernelspec": {
   "display_name": "Python 3",
   "language": "python",
   "name": "python3"
  },
  "language_info": {
   "codemirror_mode": {
    "name": "ipython",
    "version": 3
   },
   "file_extension": ".py",
   "mimetype": "text/x-python",
   "name": "python",
   "nbconvert_exporter": "python",
   "pygments_lexer": "ipython3",
   "version": "3.7.4"
  }
 },
 "nbformat": 4,
 "nbformat_minor": 2
}
